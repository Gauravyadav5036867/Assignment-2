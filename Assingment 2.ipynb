{
 "cells": [
  {
   "cell_type": "code",
   "execution_count": null,
   "id": "19f9d351-782e-4e91-877e-1aad7a452640",
   "metadata": {},
   "outputs": [],
   "source": [
    "## Question 1\n",
    "Comments in Python are identified with a hash symbol, #, and extend to the end of the line. Hash characters in a string are not considered comments,\n",
    "however. There are three ways to write a comment - as a separate line, beside the corresponding statement of code, or as a multi-line comment block."
   ]
  },
  {
   "cell_type": "code",
   "execution_count": null,
   "id": "930188bf-6372-45bc-88d4-9f0a3ba7fb1d",
   "metadata": {},
   "outputs": [],
   "source": [
    "## Question 2\n",
    "A variable is a string of characters and numbers associated with a piece of information.\n",
    "The assignment operator, denoted by the “=” symbol, is the operator that is used to assign values to variables in Python. \n",
    "The line x=1 takes the known value, 1, and assigns that value to the variable with name “x”."
   ]
  },
  {
   "cell_type": "code",
   "execution_count": null,
   "id": "ddc67bd0-6da4-43d9-a4c0-52f242bd7d79",
   "metadata": {},
   "outputs": [],
   "source": [
    "## Question 3\n",
    "To convert between types, you simply use the type name as a function. \n",
    "There are several built-in functions to perform conversion from one data type to another.\n",
    "These functions return a new object representing the converted value."
   ]
  },
  {
   "cell_type": "code",
   "execution_count": null,
   "id": "bea50475-0892-4bda-b187-b25d3b5ebe44",
   "metadata": {},
   "outputs": [],
   "source": [
    "##Question 4\n",
    "To convert between types, you simply use the type name as a function.\n",
    "There are several built-in functions to perform conversion from one data type to another.\n",
    "These functions return a new object representing the converted value."
   ]
  },
  {
   "cell_type": "code",
   "execution_count": 15,
   "id": "531dbf81-099f-4abd-88ec-7b72c9cd0c1b",
   "metadata": {},
   "outputs": [
    {
     "name": "stdout",
     "output_type": "stream",
     "text": [
      "[2, 3]\n"
     ]
    }
   ],
   "source": [
    "## Question 5\n",
    "#to slice the list my_list and obtain the sub-list [2, 3], you can use Python's slice notation\n",
    "my_list = [1, 2, 3, 4, 5]\n",
    "sub_list = my_list[1:3]\n",
    "print(sub_list)\n"
   ]
  },
  {
   "cell_type": "code",
   "execution_count": null,
   "id": "3b82a6a0-0353-4f44-b429-6a0c23cd296a",
   "metadata": {},
   "outputs": [],
   "source": [
    "##Question 6\n",
    "Python helps to tackle and manipulate them. Complex numbers are created from two real numbers.\n",
    "You can create it directly or you can use the complex function.\n",
    "It is written in the form of (x + yj) where x and y are real numbers and j is an imaginary number which is the square root of -1."
   ]
  },
  {
   "cell_type": "code",
   "execution_count": null,
   "id": "49590878-b961-47b2-ba18-f8ff746c962d",
   "metadata": {},
   "outputs": [],
   "source": [
    "##Question 7\n",
    "The correct way to declare a variable named age and assign the value 25 to it depends on the programming language you are using. \n",
    "age = 25\n"
   ]
  },
  {
   "cell_type": "code",
   "execution_count": null,
   "id": "075f98fd-e130-407c-95aa-535baccdf455",
   "metadata": {},
   "outputs": [],
   "source": [
    "## Question 8\n",
    "The variable named price, assigned with the value 9.99, belongs to the data type called \"float\" or \"floating-point number\".\n",
    "price = 9.99\n"
   ]
  },
  {
   "cell_type": "code",
   "execution_count": 19,
   "id": "297f5790-da3c-4210-a9b8-15ad68dae9da",
   "metadata": {},
   "outputs": [
    {
     "name": "stdout",
     "output_type": "stream",
     "text": [
      "gaurav\n"
     ]
    }
   ],
   "source": [
    "## Question 9\n",
    "name = \"gaurav\"\n",
    "print(name)"
   ]
  },
  {
   "cell_type": "code",
   "execution_count": null,
   "id": "75c4ad70-6c93-45ad-bcd8-5dcd5566e2a4",
   "metadata": {},
   "outputs": [],
   "source": [
    "## Question 10\n"
   ]
  }
 ],
 "metadata": {
  "kernelspec": {
   "display_name": "Python 3 (ipykernel)",
   "language": "python",
   "name": "python3"
  },
  "language_info": {
   "codemirror_mode": {
    "name": "ipython",
    "version": 3
   },
   "file_extension": ".py",
   "mimetype": "text/x-python",
   "name": "python",
   "nbconvert_exporter": "python",
   "pygments_lexer": "ipython3",
   "version": "3.10.8"
  }
 },
 "nbformat": 4,
 "nbformat_minor": 5
}
